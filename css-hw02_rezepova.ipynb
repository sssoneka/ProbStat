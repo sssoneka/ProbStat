{
 "cells": [
  {
   "cell_type": "markdown",
   "metadata": {},
   "source": [
    "# Теория вероятностей и математическая статистика\n",
    "\n",
    "## Домашнее задание №2\n",
    "\n",
    "*Резепова Софья*"
   ]
  },
  {
   "cell_type": "markdown",
   "metadata": {},
   "source": [
    "Загрузите данные из CSV-файла с вашей фамилией [отсюда](https://disk.yandex.ru/d/9AkPX4tUf2caGA), сохраните их в датафрейм и выполните следующие задания.\n",
    "\n",
    "Пояснения по столбцам:\n",
    "\n",
    "* `city`: название города;\n",
    "* `Decibel_Level`: уровень шума;\n",
    "* `Traffic_Density`: плотность трафика, транспортная загруженность;\n",
    "* `Green_Space_Area`: площадь зеленых насаждений;\n",
    "* `Air_Quality_Index`: индекс качества воздуха (чем выше, тем грязнее воздух);\n",
    "* `Happiness_Score`: индекс счастья;\n",
    "* `Cost_of_Living_Index`: индекс стоимости жизни;\n",
    "* `Healthcare_Index`: индекс качества здравоохранения."
   ]
  },
  {
   "cell_type": "markdown",
   "metadata": {},
   "source": [
    "### Задача 0 (2 балла)\n",
    "\n",
    "Оставьте в датафрейме только те строки, которые соответствуют **городам с характерными значениями уровня счастья и уровня шума**.\n",
    "\n",
    "Чтобы было проще удалять выбросы из данных, минуя вычисление границ типичных значений, ниже предлагается пример готового кода для извлечения нетипичных значений из построенного ящика с усами (датафрейм `df`, столбец `x`).\n",
    "\n",
    "    from matplotlib import pyplot as plt\n",
    "    my_box = plt.boxplot(df[\"x\"])\n",
    "    outliers = my_box[\"fliers\"][0].get_ydata()\n",
    "    \n",
    "Внутри `my_box` хранится словарь с элементами ящика с усами, которые `matplotlib` использует для отрисовки (все названия во множественном числе, так как можно строить несколько ящиков с усами в одних осях):\n",
    "\n",
    "* `\"whiskers\"`: линии усов;\n",
    "* `\"caps\"`: горизонтальные линии на конце усов ящика;\n",
    "* `\"boxes\"`: набор линий для ящика (нижний квартиль, медиана, верхний квартиль);\n",
    "* `\"medians\"`: горизонтальная линия для медианы;\n",
    "* `\"fliers\"`: точки, соответствующие нехарактерным значениям.\n",
    "\n",
    "В `my_box[\"fliers\"]` хранится список графических элементов, используемых для отметки точек за рамками усов. Здесь ящик с усами один, в списке только один элемент с индексом 0. Извлекаем его и забираем оттуда значения по оси `y` – это и есть выбросы."
   ]
  },
  {
   "cell_type": "code",
   "execution_count": 1,
   "metadata": {},
   "outputs": [
    {
     "data": {
      "text/html": [
       "<div>\n",
       "<style scoped>\n",
       "    .dataframe tbody tr th:only-of-type {\n",
       "        vertical-align: middle;\n",
       "    }\n",
       "\n",
       "    .dataframe tbody tr th {\n",
       "        vertical-align: top;\n",
       "    }\n",
       "\n",
       "    .dataframe thead th {\n",
       "        text-align: right;\n",
       "    }\n",
       "</style>\n",
       "<table border=\"1\" class=\"dataframe\">\n",
       "  <thead>\n",
       "    <tr style=\"text-align: right;\">\n",
       "      <th></th>\n",
       "      <th>City</th>\n",
       "      <th>Decibel_Level</th>\n",
       "      <th>Traffic_Density</th>\n",
       "      <th>Green_Space_Area</th>\n",
       "      <th>Air_Quality_Index</th>\n",
       "      <th>Happiness_Score</th>\n",
       "      <th>Cost_of_Living_Index</th>\n",
       "      <th>Healthcare_Index</th>\n",
       "    </tr>\n",
       "  </thead>\n",
       "  <tbody>\n",
       "    <tr>\n",
       "      <th>0</th>\n",
       "      <td>Napier</td>\n",
       "      <td>50</td>\n",
       "      <td>Low</td>\n",
       "      <td>140</td>\n",
       "      <td>25</td>\n",
       "      <td>8.3</td>\n",
       "      <td>30</td>\n",
       "      <td>97</td>\n",
       "    </tr>\n",
       "    <tr>\n",
       "      <th>1</th>\n",
       "      <td>Stockholm</td>\n",
       "      <td>55</td>\n",
       "      <td>Low</td>\n",
       "      <td>80</td>\n",
       "      <td>30</td>\n",
       "      <td>8.0</td>\n",
       "      <td>100</td>\n",
       "      <td>97</td>\n",
       "    </tr>\n",
       "    <tr>\n",
       "      <th>2</th>\n",
       "      <td>Putaruru</td>\n",
       "      <td>55</td>\n",
       "      <td>Low</td>\n",
       "      <td>155</td>\n",
       "      <td>30</td>\n",
       "      <td>8.1</td>\n",
       "      <td>25</td>\n",
       "      <td>96</td>\n",
       "    </tr>\n",
       "    <tr>\n",
       "      <th>3</th>\n",
       "      <td>Mangawhai</td>\n",
       "      <td>50</td>\n",
       "      <td>Low</td>\n",
       "      <td>260</td>\n",
       "      <td>25</td>\n",
       "      <td>5.8</td>\n",
       "      <td>20</td>\n",
       "      <td>97</td>\n",
       "    </tr>\n",
       "    <tr>\n",
       "      <th>4</th>\n",
       "      <td>Nelson</td>\n",
       "      <td>50</td>\n",
       "      <td>Low</td>\n",
       "      <td>100</td>\n",
       "      <td>10</td>\n",
       "      <td>8.5</td>\n",
       "      <td>70</td>\n",
       "      <td>97</td>\n",
       "    </tr>\n",
       "  </tbody>\n",
       "</table>\n",
       "</div>"
      ],
      "text/plain": [
       "        City  Decibel_Level Traffic_Density  Green_Space_Area  \\\n",
       "0     Napier             50             Low               140   \n",
       "1  Stockholm             55             Low                80   \n",
       "2   Putaruru             55             Low               155   \n",
       "3  Mangawhai             50             Low               260   \n",
       "4     Nelson             50             Low               100   \n",
       "\n",
       "   Air_Quality_Index  Happiness_Score  Cost_of_Living_Index  Healthcare_Index  \n",
       "0                 25              8.3                    30                97  \n",
       "1                 30              8.0                   100                97  \n",
       "2                 30              8.1                    25                96  \n",
       "3                 25              5.8                    20                97  \n",
       "4                 10              8.5                    70                97  "
      ]
     },
     "execution_count": 1,
     "metadata": {},
     "output_type": "execute_result"
    }
   ],
   "source": [
    "import pandas as pd\n",
    "data = pd.read_csv(\"Резепова Софья Владимировна.csv\")\n",
    "data.head()"
   ]
  },
  {
   "cell_type": "code",
   "execution_count": 2,
   "metadata": {},
   "outputs": [
    {
     "data": {
      "image/png": "[encoded data removed]",
      "text/plain": [
       "<Figure size 640x480 with 1 Axes>"
      ]
     },
     "metadata": {},
     "output_type": "display_data"
    }
   ],
   "source": [
    "from matplotlib import pyplot as plt\n",
    "box_h = plt.boxplot(data[\"Happiness_Score\"])\n",
    "out_h = box_h[\"fliers\"][0].get_ydata()"
   ]
  },
  {
   "cell_type": "code",
   "execution_count": 3,
   "metadata": {},
   "outputs": [
    {
     "data": {
      "image/png": "[encoded data removed]",
      "text/plain": [
       "<Figure size 640x480 with 1 Axes>"
      ]
     },
     "metadata": {},
     "output_type": "display_data"
    }
   ],
   "source": [
    "box_n = plt.boxplot(data[\"Decibel_Level\"])\n",
    "out_n = box_n[\"fliers\"][0].get_ydata()"
   ]
  },
  {
   "cell_type": "code",
   "execution_count": 4,
   "metadata": {},
   "outputs": [],
   "source": [
    "f_data = data[\n",
    "    (data[\"Happiness_Score\"].isin(out_h) == False) &\n",
    "    (data[\"Decibel_Level\"].isin(out_n) == False)\n",
    "]"
   ]
  },
  {
   "cell_type": "markdown",
   "metadata": {},
   "source": [
    "### Задача 1 (4 балла)\n",
    "\n",
    "*(0.5 балла)* Оцените модель линейной регрессии, которая позволит предсказывать уровень счастья жителей города (`Happiness_Score`) в зависимости от уровня шума в городе (`Decibel_Level`). Выведите результаты полученной модели – основную выдачу с коэффициентами. \n",
    "\n",
    "a. *(1 балл)* Запишите (с конкретными числами из выдачи) уравнение полученной модели.\n",
    "\n",
    "b. *(1 балл)* Содержательно проинтерпретируйте коэффициенты в полученном уравнении модели. Если константа содержательно не интерпретируема, укажите это.\n",
    "\n",
    "c. *(1 балл)* Запишите, чему равно наблюдаемое значение статистики критерия, используемое для проверки гипотезы о коэффициенте $\\hat{b}_1$. Можно ли считать, приняв уровень доверия 0.95 (уровень значимости 0.05), что независимая переменная оказывает значимый эффект на зависимую? Обоснуйте свой ответ.\n",
    "\n",
    "d. *(0.5 балла)* Запишите, чему равен $R^2$ модели и проинтерпретируйте ее предсказательную силу."
   ]
  },
  {
   "cell_type": "code",
   "execution_count": 5,
   "metadata": {},
   "outputs": [],
   "source": [
    "import statsmodels.api as sm\n",
    "y = f_data[\"Happiness_Score\"]\n",
    "x = f_data[\"Decibel_Level\"]\n",
    "x = sm.add_constant(x)"
   ]
  },
  {
   "cell_type": "code",
   "execution_count": 6,
   "metadata": {},
   "outputs": [
    {
     "name": "stdout",
     "output_type": "stream",
     "text": [
      "                            OLS Regression Results                            \n",
      "==============================================================================\n",
      "Dep. Variable:        Happiness_Score   R-squared:                       0.205\n",
      "Model:                            OLS   Adj. R-squared:                  0.190\n",
      "Method:                 Least Squares   F-statistic:                     13.40\n",
      "Date:                Sun, 01 Jun 2025   Prob (F-statistic):           0.000589\n",
      "Time:                        19:50:54   Log-Likelihood:                -54.779\n",
      "No. Observations:                  54   AIC:                             113.6\n",
      "Df Residuals:                      52   BIC:                             117.5\n",
      "Df Model:                           1                                         \n",
      "Covariance Type:            nonrobust                                         \n",
      "=================================================================================\n",
      "                    coef    std err          t      P>|t|      [0.025      0.975]\n",
      "---------------------------------------------------------------------------------\n",
      "const            11.7272      1.155     10.153      0.000       9.409      14.045\n",
      "Decibel_Level    -0.0755      0.021     -3.660      0.001      -0.117      -0.034\n",
      "==============================================================================\n",
      "Omnibus:                       10.480   Durbin-Watson:                   2.079\n",
      "Prob(Omnibus):                  0.005   Jarque-Bera (JB):               10.149\n",
      "Skew:                          -0.966   Prob(JB):                      0.00625\n",
      "Kurtosis:                       3.883   Cond. No.                         699.\n",
      "==============================================================================\n",
      "\n",
      "Notes:\n",
      "[1] Standard Errors assume that the covariance matrix of the errors is correctly specified.\n"
     ]
    }
   ],
   "source": [
    "model = sm.OLS(y, x).fit()\n",
    "print(model.summary())"
   ]
  },
  {
   "cell_type": "markdown",
   "metadata": {},
   "source": [
    "**а)**  Уравнение "
   ]
  },
  {
   "cell_type": "markdown",
   "metadata": {},
   "source": [
    "$$\n",
    "\\hat{y} = 11.7272 - 0.0755 \\cdot x\n",
    "$$"
   ]
  },
  {
   "cell_type": "markdown",
   "metadata": {},
   "source": [
    "**b)** Коэффициент при  x означает, что при увеличении уровня шума на $1$ децибел уровень счастья в среднем снижается на $0.0755$. Константа в данном случае не интерпретируема: по определению это ожидаемый уровень счастья при $х = 0$.\n"
   ]
  },
  {
   "cell_type": "markdown",
   "metadata": {},
   "source": [
    "**с)** Статистика критерия $-3.660$\n",
    "$$  p-value = 0.001 < 0.05 \\$$\n",
    "==> отклоняем нулевую гипотезу, независимая переменная (уровень шума) оказывает статистическое влияние на зависимую (на уровень счастья)"
   ]
  },
  {
   "cell_type": "markdown",
   "metadata": {},
   "source": [
    "**d)** $R^2 = 0.205$ \\\n",
    "примерно 20.5% дисперсии уровня счастья объясняется уровнем шума"
   ]
  },
  {
   "cell_type": "markdown",
   "metadata": {},
   "source": [
    "### Задача 2 (4 балла)\n",
    "\n",
    "*(2 балла)* Сохраните остатки модели (разница между фактическими и предсказанными значениями) в отдельный столбец датафрейма, с которым вы работаете. Выведите для них описательные статистики и постройте гистограмму. Постройте диаграмму рассеивания между значениями независимой переменной и остатками модели. \n",
    "\n",
    "*(2 балла)* Прокомментируйте полученные результаты в контексте выполнения/не выполнения некоторых условий Гаусса-Маркова+ (условия Гаусса-Маркова с лекции + нормальность остатков)."
   ]
  },
  {
   "cell_type": "code",
   "execution_count": 7,
   "metadata": {},
   "outputs": [
    {
     "data": {
      "text/html": [
       "<div>\n",
       "<style scoped>\n",
       "    .dataframe tbody tr th:only-of-type {\n",
       "        vertical-align: middle;\n",
       "    }\n",
       "\n",
       "    .dataframe tbody tr th {\n",
       "        vertical-align: top;\n",
       "    }\n",
       "\n",
       "    .dataframe thead th {\n",
       "        text-align: right;\n",
       "    }\n",
       "</style>\n",
       "<table border=\"1\" class=\"dataframe\">\n",
       "  <thead>\n",
       "    <tr style=\"text-align: right;\">\n",
       "      <th></th>\n",
       "      <th>City</th>\n",
       "      <th>Decibel_Level</th>\n",
       "      <th>Traffic_Density</th>\n",
       "      <th>Green_Space_Area</th>\n",
       "      <th>Air_Quality_Index</th>\n",
       "      <th>Happiness_Score</th>\n",
       "      <th>Cost_of_Living_Index</th>\n",
       "      <th>Healthcare_Index</th>\n",
       "      <th>residuals</th>\n",
       "    </tr>\n",
       "  </thead>\n",
       "  <tbody>\n",
       "    <tr>\n",
       "      <th>0</th>\n",
       "      <td>Napier</td>\n",
       "      <td>50</td>\n",
       "      <td>Low</td>\n",
       "      <td>140</td>\n",
       "      <td>25</td>\n",
       "      <td>8.3</td>\n",
       "      <td>30</td>\n",
       "      <td>97</td>\n",
       "      <td>0.346743</td>\n",
       "    </tr>\n",
       "    <tr>\n",
       "      <th>1</th>\n",
       "      <td>Stockholm</td>\n",
       "      <td>55</td>\n",
       "      <td>Low</td>\n",
       "      <td>80</td>\n",
       "      <td>30</td>\n",
       "      <td>8.0</td>\n",
       "      <td>100</td>\n",
       "      <td>97</td>\n",
       "      <td>0.424138</td>\n",
       "    </tr>\n",
       "    <tr>\n",
       "      <th>2</th>\n",
       "      <td>Putaruru</td>\n",
       "      <td>55</td>\n",
       "      <td>Low</td>\n",
       "      <td>155</td>\n",
       "      <td>30</td>\n",
       "      <td>8.1</td>\n",
       "      <td>25</td>\n",
       "      <td>96</td>\n",
       "      <td>0.524138</td>\n",
       "    </tr>\n",
       "    <tr>\n",
       "      <th>3</th>\n",
       "      <td>Mangawhai</td>\n",
       "      <td>50</td>\n",
       "      <td>Low</td>\n",
       "      <td>260</td>\n",
       "      <td>25</td>\n",
       "      <td>5.8</td>\n",
       "      <td>20</td>\n",
       "      <td>97</td>\n",
       "      <td>-2.153257</td>\n",
       "    </tr>\n",
       "    <tr>\n",
       "      <th>4</th>\n",
       "      <td>Nelson</td>\n",
       "      <td>50</td>\n",
       "      <td>Low</td>\n",
       "      <td>100</td>\n",
       "      <td>10</td>\n",
       "      <td>8.5</td>\n",
       "      <td>70</td>\n",
       "      <td>97</td>\n",
       "      <td>0.546743</td>\n",
       "    </tr>\n",
       "  </tbody>\n",
       "</table>\n",
       "</div>"
      ],
      "text/plain": [
       "        City  Decibel_Level Traffic_Density  Green_Space_Area  \\\n",
       "0     Napier             50             Low               140   \n",
       "1  Stockholm             55             Low                80   \n",
       "2   Putaruru             55             Low               155   \n",
       "3  Mangawhai             50             Low               260   \n",
       "4     Nelson             50             Low               100   \n",
       "\n",
       "   Air_Quality_Index  Happiness_Score  Cost_of_Living_Index  Healthcare_Index  \\\n",
       "0                 25              8.3                    30                97   \n",
       "1                 30              8.0                   100                97   \n",
       "2                 30              8.1                    25                96   \n",
       "3                 25              5.8                    20                97   \n",
       "4                 10              8.5                    70                97   \n",
       "\n",
       "   residuals  \n",
       "0   0.346743  \n",
       "1   0.424138  \n",
       "2   0.524138  \n",
       "3  -2.153257  \n",
       "4   0.546743  "
      ]
     },
     "execution_count": 7,
     "metadata": {},
     "output_type": "execute_result"
    }
   ],
   "source": [
    "data[\"residuals\"] = model.resid\n",
    "data.head()"
   ]
  },
  {
   "cell_type": "code",
   "execution_count": 8,
   "metadata": {},
   "outputs": [
    {
     "name": "stdout",
     "output_type": "stream",
     "text": [
      "count    5.400000e+01\n",
      "mean    -2.565849e-15\n",
      "std      6.735623e-01\n",
      "min     -2.153257e+00\n",
      "25%     -3.758621e-01\n",
      "50%      1.467433e-01\n",
      "75%      4.241379e-01\n",
      "max      1.001533e+00\n",
      "Name: residuals, dtype: float64\n"
     ]
    }
   ],
   "source": [
    "print(data[\"residuals\"].describe())"
   ]
  },
  {
   "cell_type": "code",
   "execution_count": 9,
   "metadata": {},
   "outputs": [],
   "source": [
    "import seaborn as sns"
   ]
  },
  {
   "cell_type": "code",
   "execution_count": 10,
   "metadata": {},
   "outputs": [
    {
     "data": {
      "image/png": "[encoded data removed]",
      "text/plain": [
       "<Figure size 640x480 with 1 Axes>"
      ]
     },
     "metadata": {},
     "output_type": "display_data"
    }
   ],
   "source": [
    "plt.figure()\n",
    "sns.histplot(data[\"residuals\"], bins=10)\n",
    "plt.title(\"Гистограмма остатков модели\")\n",
    "plt.xlabel(\"Остатки\")\n",
    "plt.ylabel(\"Частота\")\n",
    "plt.grid(True)\n",
    "plt.show()"
   ]
  },
  {
   "cell_type": "code",
   "execution_count": 11,
   "metadata": {},
   "outputs": [
    {
     "data": {
      "image/png": "[encoded data removed]",
      "text/plain": [
       "<Figure size 640x480 with 1 Axes>"
      ]
     },
     "metadata": {},
     "output_type": "display_data"
    }
   ],
   "source": [
    "plt.figure()\n",
    "sns.scatterplot(x=data[\"Decibel_Level\"], y=data[\"residuals\"])\n",
    "plt.title(\"Диаграмма рассеяния между уровнем шума и остатками\")\n",
    "plt.xlabel(\"Уровень шума\")\n",
    "plt.ylabel(\"Остатки\")\n",
    "plt.grid(True)\n",
    "plt.show()\n"
   ]
  },
  {
   "cell_type": "markdown",
   "metadata": {},
   "source": [
    "Дополнительный график для проверки нормальности (сравнение распределения остатков с нормальным)"
   ]
  },
  {
   "cell_type": "code",
   "execution_count": 12,
   "metadata": {},
   "outputs": [
    {
     "data": {
      "image/png": "[encoded data removed]",
      "text/plain": [
       "<Figure size 640x480 with 1 Axes>"
      ]
     },
     "metadata": {},
     "output_type": "display_data"
    }
   ],
   "source": [
    "sm.qqplot(data[\"residuals\"], line=\"45\")\n",
    "plt.show()\n"
   ]
  },
  {
   "cell_type": "markdown",
   "metadata": {},
   "source": [
    "1. **Несмещенность оценок** (в среднем ошибки не склоняются вверх или вниз, не зависят от значений независимой переменной) выполняется, остатки колеблются вокруг 0 (видно по диаграмме рассеяния)\n",
    "$$ Cov(x_i ,ε_i )=0$$\n",
    "\n",
    "2. **Гомоскедастичность** (дисперсия остатков должна быть постоянной при любом значении независимой переменной) выполняется. Признаков гетероскедастичности нет, так как визуально на диаграмме рассеяния нет явной воронки или веера.\n",
    "\n",
    "3.  Durbin-Watson $= 2.079$, это близко к 2, что означает отсутствие автокорреляции, то есть **независимость остатков** \n",
    "$$ Cov(ε_j ,ε_i )=0$$\n",
    "\n",
    "4. **Остатки не нормально распределены**\\\n",
    "$Skew = -0.966 $. Это означает, что есть левосторонняя ассиметрия (на дополнительном графике qqplot остатков это тоже видно, если остатки были бы нормально распределены, то точки на графике лежали примерно на красной линии)\\\n",
    "Также $Kurtosis = 3.883$ выше номального (у нормального = 3)"
   ]
  },
  {
   "cell_type": "markdown",
   "metadata": {},
   "source": [
    "Вывод: в целом, модель **удовлетворяет ключевым условиям Гаусса-Маркова**"
   ]
  },
  {
   "cell_type": "markdown",
   "metadata": {},
   "source": [
    "### Задача 3 (2 балла)\n",
    "\n",
    "Реализуйте ANOVA и проверьте на 5%-ном уровне значимости, можно ли считать средний уровень счастья равным в городах с очень высокой, высокой, средней и низкой транспортной загруженностью.\n",
    "\n",
    "* Сформулируйте нулевую и альтернативную гипотезу. \n",
    "* Приведите код Python для проверки и сделайте содержательный вывод."
   ]
  },
  {
   "cell_type": "code",
   "execution_count": 13,
   "metadata": {},
   "outputs": [
    {
     "data": {
      "text/plain": [
       "array(['Low', 'Medium', 'High'], dtype=object)"
      ]
     },
     "execution_count": 13,
     "metadata": {},
     "output_type": "execute_result"
    }
   ],
   "source": [
    "f_data[\"Traffic_Density\"].unique()"
   ]
  },
  {
   "cell_type": "code",
   "execution_count": 14,
   "metadata": {},
   "outputs": [
    {
     "name": "stdout",
     "output_type": "stream",
     "text": [
      "F-статистика: 18.5882\n",
      "p-value: 0.0000\n"
     ]
    }
   ],
   "source": [
    "from scipy.stats import f_oneway\n",
    "\n",
    "\n",
    "low = data[data[\"Traffic_Density\"] == \"Low\"][\"Happiness_Score\"]\n",
    "medium = data[data[\"Traffic_Density\"] == \"Medium\"][\"Happiness_Score\"]\n",
    "high = data[data[\"Traffic_Density\"] == \"High\"][\"Happiness_Score\"]\n",
    "\n",
    "\n",
    "f_stat, p_value = f_oneway(low, medium, high)\n",
    "\n",
    "print(f\"F-статистика: {f_stat:.4f}\")\n",
    "print(f\"p-value: {p_value:.4f}\")"
   ]
  },
  {
   "cell_type": "markdown",
   "metadata": {},
   "source": [
    "$$ p-value = 0.0000 < 0.05 $$ \n",
    "==> **отклоняем нулевую гипотезу** $H_0$ (средний уровень счастья статистически значимо не отличается хотя бы для одной из групп транспортной загруженности) в пользу альтернативной $H_1$ (средний уровень счастья статистически значимо отличается хотя бы для одной из групп транспортной загруженности)"
   ]
  },
  {
   "cell_type": "markdown",
   "metadata": {},
   "source": [
    "### Задача 4 (3 балла)\n",
    "\n",
    "Постройте модель линейной регрессии, где зависимой переменной является уровень счастья, а независимой – уровень транспортной загруженности. \n",
    "\n",
    "Если используете возможности `statsmodels`, текстовая переменная автоматически разбивается на набор $k$ бинарных переменных (здесь – высокий уровень или нет, средний уровень или нет, низкий уровень или нет, очень высокий уровень или нет), одна из бинарных переменных выкидывается во избежание строгой линейной зависимости, и строится множественная регрессия с $k-1$ бинарными независимыми переменными.\n",
    "\n",
    "*(1 балл)* Выведите для модели основную выдачу с коэффициентами и ANOVA-таблицу. Убедитесь, что значение F-статистики в основной выдаче совпадает со значением F-статистики в ANOVA-таблице."
   ]
  },
  {
   "cell_type": "code",
   "execution_count": 15,
   "metadata": {},
   "outputs": [
    {
     "name": "stdout",
     "output_type": "stream",
     "text": [
      "                            OLS Regression Results                            \n",
      "==============================================================================\n",
      "Dep. Variable:        Happiness_Score   R-squared:                       0.234\n",
      "Model:                            OLS   Adj. R-squared:                  0.204\n",
      "Method:                 Least Squares   F-statistic:                     7.798\n",
      "Date:                Sun, 01 Jun 2025   Prob (F-statistic):            0.00111\n",
      "Time:                        19:51:38   Log-Likelihood:                -53.764\n",
      "No. Observations:                  54   AIC:                             113.5\n",
      "Df Residuals:                      51   BIC:                             119.5\n",
      "Df Model:                           2                                         \n",
      "Covariance Type:            nonrobust                                         \n",
      "================================================================================================\n",
      "                                   coef    std err          t      P>|t|      [0.025      0.975]\n",
      "------------------------------------------------------------------------------------------------\n",
      "Intercept                        6.7200      0.301     22.299      0.000       6.115       7.325\n",
      "C(Traffic_Density)[T.Low]        1.0457      0.322      3.246      0.002       0.399       1.692\n",
      "C(Traffic_Density)[T.Medium]     0.4443      0.351      1.265      0.211      -0.261       1.149\n",
      "==============================================================================\n",
      "Omnibus:                       10.591   Durbin-Watson:                   2.113\n",
      "Prob(Omnibus):                  0.005   Jarque-Bera (JB):               10.348\n",
      "Skew:                          -1.007   Prob(JB):                      0.00566\n",
      "Kurtosis:                       3.739   Cond. No.                         7.24\n",
      "==============================================================================\n",
      "\n",
      "Notes:\n",
      "[1] Standard Errors assume that the covariance matrix of the errors is correctly specified.\n"
     ]
    }
   ],
   "source": [
    "import statsmodels.formula.api as smf\n",
    "\n",
    "model = smf.ols(\"Happiness_Score ~ C(Traffic_Density)\", data=f_data).fit()\n",
    "print(model.summary())"
   ]
  },
  {
   "cell_type": "code",
   "execution_count": 16,
   "metadata": {},
   "outputs": [
    {
     "name": "stdout",
     "output_type": "stream",
     "text": [
      "                       sum_sq    df         F   PR(>F)\n",
      "C(Traffic_Density)   7.081926   2.0  7.797794  0.00111\n",
      "Residual            23.159000  51.0       NaN      NaN\n"
     ]
    }
   ],
   "source": [
    "import statsmodels.api as sm\n",
    "\n",
    "anova = sm.stats.anova_lm(model, typ=2)\n",
    "print(anova)"
   ]
  },
  {
   "cell_type": "markdown",
   "metadata": {},
   "source": [
    "**Значения совпадают**\n",
    "\n",
    "$7.798 \\approx 7.797794$"
   ]
  },
  {
   "cell_type": "markdown",
   "metadata": {},
   "source": [
    "Группа, соответствующая 1 в бинарной переменной, которая была исключена из модели, считается *базовой категорией*, с которой сравниваются все остальные. В такой модели коэффициенты при независимых переменных – разность средних значений зависимой переменной между соответствующей группой и базовой категорией.\n",
    "\n",
    "*(2 балла)* Укажите, какая категория является базовой в данном случае. Запишите уравнение полученной модели и проинтерпретируйте полученные коэффициенты. Приняв уровень значимости 1%, определите, в каких парах групп различия в среднем уровне счастья можно считать статистически значимыми."
   ]
  },
  {
   "cell_type": "markdown",
   "metadata": {},
   "source": [
    "$\\text{High - базовая категория (так как ее нет в таблице)}$"
   ]
  },
  {
   "cell_type": "markdown",
   "metadata": {},
   "source": [
    "$\\text{Уравнение модели:}$"
   ]
  },
  {
   "cell_type": "markdown",
   "metadata": {},
   "source": [
    "$$\n",
    "\\hat{y} =\n",
    "\\begin{cases}\n",
    "6.7200 + 1.0457 = 7.7657, & \\text{если Low} \\\\\n",
    "6.7200 + 0.4443 = 7.1643, & \\text{если Medium} \\\\\n",
    "6.7200 = 6.7200 & \\text{если High (базовая)} \\\n",
    "\\end{cases}\n",
    "$$\n"
   ]
  },
  {
   "cell_type": "markdown",
   "metadata": {},
   "source": [
    "Интерпретация:\n",
    "\n",
    "При низкой загруженности уровень счастья в среднем выше на $1.0457$, чем при высокой\n",
    "\n",
    "При средней загруженности уровень счастья в среднем выше на $0.4443$, чем при высокой\n",
    "\n",
    "$Intercept = 6.7200$ - средний уровень счастья при базовой категории"
   ]
  },
  {
   "cell_type": "markdown",
   "metadata": {},
   "source": [
    "$$\n",
    "p-value = 0.002 > 0.001 \n",
    "$$\n",
    "$$\n",
    "p-value = 0.211 > 0.001 \n",
    "$$\n",
    "===> средние уровни счастья в группах с низкой и средней загруженностью статистически значимо **не отличаются** от уровня в группе с высокой  загруженностью"
   ]
  }
 ],
 "metadata": {
  "kernelspec": {
   "display_name": "Python 3",
   "language": "python",
   "name": "python3"
  },
  "language_info": {
   "codemirror_mode": {
    "name": "ipython",
    "version": 3
   },
   "file_extension": ".py",
   "mimetype": "text/x-python",
   "name": "python",
   "nbconvert_exporter": "python",
   "pygments_lexer": "ipython3",
   "version": "3.11.5"
  }
 },
 "nbformat": 4,
 "nbformat_minor": 2
}
